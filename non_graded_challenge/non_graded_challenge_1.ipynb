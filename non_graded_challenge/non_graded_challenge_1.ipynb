{
 "cells": [
  {
   "cell_type": "code",
   "execution_count": 4,
   "metadata": {},
   "outputs": [
    {
     "name": "stdout",
     "output_type": "stream",
     "text": [
      "402 984 360 408 980 544 390 984 592 236 942 386 462 418 344 236 566 978 328 162 758 918 done\n"
     ]
    }
   ],
   "source": [
    "#using while lopp\n",
    "#Loop dan print semua angka genap dari list angka diatas dengan urutan yang sama.\n",
    "#Jangan mencetak angka apapun yang muncul setelah angka 918 berdasarkan posisi angka tersebut pada list diatas.\n",
    "#Tampilkan pesan ”Done” setelah looping berakhir.\n",
    "\n",
    "numbers = [951, 402, 984, 651, 360, 69, 408, 319, 601, 485, 980, 507, 725, 547, 544, 615, 83, 165, 141, 501, 263, 617, 865, 575, 219, 390, 984, 592, 236, 105, 942, 941, 386, 462, 47, 418, 907, 344, 236, 375, 823, 566, 597, 978, 328, 615, 953, 345, 399, 162, 758, 219, 918, 237, 412, 566, 826, 248, 866, 950, 626, 949]\n",
    "index = numbers.index(918)\n",
    "i = 0\n",
    "while i <= index:\n",
    "    if numbers[i] %2 == 0:\n",
    "        print(numbers[i],end=\" \") \n",
    "    i = i + 1    \n",
    "print(\"done\")"
   ]
  },
  {
   "cell_type": "code",
   "execution_count": 5,
   "metadata": {},
   "outputs": [
    {
     "name": "stdout",
     "output_type": "stream",
     "text": [
      "[402, 984, 360, 408, 980, 544, 390, 984, 592, 236, 942, 386, 462, 418, 344, 236, 566, 978, 328, 162, 758, 918]\n",
      "done\n",
      "53\n"
     ]
    }
   ],
   "source": [
    "#using while lopp & create new list\n",
    "#Loop dan print semua angka genap dari list angka diatas dengan urutan yang sama.\n",
    "#Jangan mencetak angka apapun yang muncul setelah angka 918 berdasarkan posisi angka tersebut pada list diatas.\n",
    "#Tampilkan pesan ”Done” setelah looping berakhir.\n",
    "\n",
    "numbers = [951, 402, 984, 651, 360, 69, 408, 319, 601, 485, 980, 507, 725, 547, 544, 615, 83, 165, 141, 501, 263, 617, 865, 575, 219, 390, 984, 592, 236, 105, 942, 941, 386, 462, 47, 418, 907, 344, 236, 375, 823, 566, 597, 978, 328, 615, 953, 345, 399, 162, 758, 219, 918, 237, 412, 566, 826, 248, 866, 950, 626, 949]\n",
    "index = numbers.index(918)\n",
    "numbers2 = []\n",
    "i = 0\n",
    "while i <= index:\n",
    "    if numbers[i] %2 == 0:\n",
    "       numbers2.append(numbers[i])\n",
    "    i = i + 1 \n",
    "print(numbers2)   \n",
    "print(\"done\")\n",
    "\n",
    "#check\n",
    "print(i)\n",
    " "
   ]
  },
  {
   "cell_type": "code",
   "execution_count": 7,
   "metadata": {},
   "outputs": [
    {
     "name": "stdout",
     "output_type": "stream",
     "text": [
      "402 984 360 408 980 544 390 984 592 236 942 386 462 418 344 236 566 978 328 162 758 918 done!\n"
     ]
    }
   ],
   "source": [
    "#using for lopp v2\n",
    "#Loop dan print semua angka genap dari list angka diatas dengan urutan yang sama.\n",
    "#Jangan mencetak angka apapun yang muncul setelah angka 918 berdasarkan posisi angka tersebut pada list diatas.\n",
    "#Tampilkan pesan ”Done” setelah looping berakhir.\n",
    "\n",
    "numbers = [951, 402, 984, 651, 360, 69, 408, 319, 601, 485, 980, 507, 725, 547, 544, 615, 83, 165, 141, 501, 263, 617, 865, 575, 219, 390, 984, 592, 236, 105, 942, 941, 386, 462, 47, 418, 907, 344, 236, 375, 823, 566, 597, 978, 328, 615, 953, 345, 399, 162, 758, 219, 918, 237, 412, 566, 826, 248, 866, 950, 626, 949]\n",
    "for i in numbers[0:53]:\n",
    "    if i %2 == 0:\n",
    "        print(i,end=\" \")\n",
    "print(\"done!\")"
   ]
  }
 ],
 "metadata": {
  "interpreter": {
   "hash": "aad4cc7dc5e0e99ec296b13465a882b8dc865e3b37306cc675d0b140a9b3a4a7"
  },
  "kernelspec": {
   "display_name": "Python 3.9.7 ('base')",
   "language": "python",
   "name": "python3"
  },
  "language_info": {
   "codemirror_mode": {
    "name": "ipython",
    "version": 3
   },
   "file_extension": ".py",
   "mimetype": "text/x-python",
   "name": "python",
   "nbconvert_exporter": "python",
   "pygments_lexer": "ipython3",
   "version": "3.9.7"
  },
  "orig_nbformat": 4
 },
 "nbformat": 4,
 "nbformat_minor": 2
}
