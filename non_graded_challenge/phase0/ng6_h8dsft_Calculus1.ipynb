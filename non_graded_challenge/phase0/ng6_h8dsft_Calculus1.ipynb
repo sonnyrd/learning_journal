{
 "cells": [
  {
   "cell_type": "markdown",
   "metadata": {},
   "source": [
    "# h8dsft_Calculus1"
   ]
  },
  {
   "cell_type": "code",
   "execution_count": 2,
   "metadata": {},
   "outputs": [],
   "source": [
    "import sympy as sy"
   ]
  },
  {
   "cell_type": "markdown",
   "metadata": {},
   "source": [
    "### Soal 1\n",
    "![soal 1](https://github.com/sonnyrd/learning_journal/blob/main/non_graded_challenge/phase0/data/img6.png?raw=true)"
   ]
  },
  {
   "cell_type": "markdown",
   "metadata": {},
   "source": [
    "### Turunan Symbolic"
   ]
  },
  {
   "cell_type": "code",
   "execution_count": 3,
   "metadata": {},
   "outputs": [],
   "source": [
    "x = sy.Symbol('x')\n",
    "f1 = x**2+2*x+1\n",
    "f2 = 4*x**3-3*x**2+2*x-1"
   ]
  },
  {
   "cell_type": "code",
   "execution_count": 4,
   "metadata": {},
   "outputs": [
    {
     "data": {
      "text/latex": [
       "$\\displaystyle x^{2} + 2 x + 1$"
      ],
      "text/plain": [
       "x**2 + 2*x + 1"
      ]
     },
     "execution_count": 4,
     "metadata": {},
     "output_type": "execute_result"
    }
   ],
   "source": [
    "f1"
   ]
  },
  {
   "cell_type": "code",
   "execution_count": 5,
   "metadata": {},
   "outputs": [
    {
     "data": {
      "text/latex": [
       "$\\displaystyle 4 x^{3} - 3 x^{2} + 2 x - 1$"
      ],
      "text/plain": [
       "4*x**3 - 3*x**2 + 2*x - 1"
      ]
     },
     "execution_count": 5,
     "metadata": {},
     "output_type": "execute_result"
    }
   ],
   "source": [
    "f2"
   ]
  },
  {
   "cell_type": "markdown",
   "metadata": {},
   "source": [
    "turunan f1"
   ]
  },
  {
   "cell_type": "code",
   "execution_count": 6,
   "metadata": {},
   "outputs": [
    {
     "data": {
      "text/latex": [
       "$\\displaystyle 2 x + 2$"
      ],
      "text/plain": [
       "2*x + 2"
      ]
     },
     "execution_count": 6,
     "metadata": {},
     "output_type": "execute_result"
    }
   ],
   "source": [
    "#first order\n",
    "df1 = f1.diff()\n",
    "df1"
   ]
  },
  {
   "cell_type": "code",
   "execution_count": 7,
   "metadata": {},
   "outputs": [
    {
     "data": {
      "text/latex": [
       "$\\displaystyle 2$"
      ],
      "text/plain": [
       "2"
      ]
     },
     "execution_count": 7,
     "metadata": {},
     "output_type": "execute_result"
    }
   ],
   "source": [
    "#second order\n",
    "df1.diff()"
   ]
  },
  {
   "cell_type": "markdown",
   "metadata": {},
   "source": [
    "turunan f2"
   ]
  },
  {
   "cell_type": "code",
   "execution_count": 8,
   "metadata": {},
   "outputs": [
    {
     "data": {
      "text/latex": [
       "$\\displaystyle 12 x^{2} - 6 x + 2$"
      ],
      "text/plain": [
       "12*x**2 - 6*x + 2"
      ]
     },
     "execution_count": 8,
     "metadata": {},
     "output_type": "execute_result"
    }
   ],
   "source": [
    "#first order\n",
    "df2 = f2.diff()\n",
    "df2"
   ]
  },
  {
   "cell_type": "code",
   "execution_count": 9,
   "metadata": {},
   "outputs": [
    {
     "data": {
      "text/latex": [
       "$\\displaystyle 24 x - 6$"
      ],
      "text/plain": [
       "24*x - 6"
      ]
     },
     "execution_count": 9,
     "metadata": {},
     "output_type": "execute_result"
    }
   ],
   "source": [
    "#second order\n",
    "df2.diff()"
   ]
  },
  {
   "cell_type": "code",
   "execution_count": 10,
   "metadata": {},
   "outputs": [
    {
     "data": {
      "text/latex": [
       "$\\displaystyle 24$"
      ],
      "text/plain": [
       "24"
      ]
     },
     "execution_count": 10,
     "metadata": {},
     "output_type": "execute_result"
    }
   ],
   "source": [
    "#third order\n",
    "df2.diff().diff()"
   ]
  },
  {
   "cell_type": "markdown",
   "metadata": {},
   "source": [
    "### Turunan Numerik"
   ]
  },
  {
   "cell_type": "code",
   "execution_count": 11,
   "metadata": {},
   "outputs": [],
   "source": [
    "import numpy as np\n",
    "import matplotlib.pyplot as plt"
   ]
  },
  {
   "cell_type": "code",
   "execution_count": 12,
   "metadata": {},
   "outputs": [],
   "source": [
    "X = np.linspace(-100,100)\n",
    "Y1 = X**2+2*X+1\n",
    "Y2 = 4*X**3-3*X**2+2*X-1"
   ]
  },
  {
   "cell_type": "code",
   "execution_count": 13,
   "metadata": {},
   "outputs": [
    {
     "data": {
      "text/plain": [
       "array([-100.        ,  -95.91836735,  -91.83673469,  -87.75510204,\n",
       "        -83.67346939,  -79.59183673,  -75.51020408,  -71.42857143,\n",
       "        -67.34693878,  -63.26530612,  -59.18367347,  -55.10204082,\n",
       "        -51.02040816,  -46.93877551,  -42.85714286,  -38.7755102 ,\n",
       "        -34.69387755,  -30.6122449 ,  -26.53061224,  -22.44897959,\n",
       "        -18.36734694,  -14.28571429,  -10.20408163,   -6.12244898,\n",
       "         -2.04081633,    2.04081633,    6.12244898,   10.20408163,\n",
       "         14.28571429,   18.36734694,   22.44897959,   26.53061224,\n",
       "         30.6122449 ,   34.69387755,   38.7755102 ,   42.85714286,\n",
       "         46.93877551,   51.02040816,   55.10204082,   59.18367347,\n",
       "         63.26530612,   67.34693878,   71.42857143,   75.51020408,\n",
       "         79.59183673,   83.67346939,   87.75510204,   91.83673469,\n",
       "         95.91836735,  100.        ])"
      ]
     },
     "execution_count": 13,
     "metadata": {},
     "output_type": "execute_result"
    }
   ],
   "source": [
    "X"
   ]
  },
  {
   "cell_type": "code",
   "execution_count": 14,
   "metadata": {},
   "outputs": [
    {
     "data": {
      "text/plain": [
       "(50,)"
      ]
     },
     "execution_count": 14,
     "metadata": {},
     "output_type": "execute_result"
    }
   ],
   "source": [
    "X.shape"
   ]
  },
  {
   "cell_type": "markdown",
   "metadata": {},
   "source": [
    "### Soal 1"
   ]
  },
  {
   "cell_type": "markdown",
   "metadata": {},
   "source": [
    "Y1"
   ]
  },
  {
   "cell_type": "code",
   "execution_count": 15,
   "metadata": {},
   "outputs": [
    {
     "data": {
      "text/plain": [
       "array([9.80100000e+03, 9.00949646e+03, 8.25131237e+03, 7.52644773e+03,\n",
       "       6.83490254e+03, 6.17667680e+03, 5.55177051e+03, 4.96018367e+03,\n",
       "       4.40191628e+03, 3.87696835e+03, 3.38533986e+03, 2.92703082e+03,\n",
       "       2.50204123e+03, 2.11037110e+03, 1.75202041e+03, 1.42698917e+03,\n",
       "       1.13527738e+03, 8.76885048e+02, 6.51812162e+02, 4.60058726e+02,\n",
       "       3.01624740e+02, 1.76510204e+02, 8.47151187e+01, 2.62394835e+01,\n",
       "       1.08329863e+00, 9.24656393e+00, 5.07292795e+01, 1.25531445e+02,\n",
       "       2.33653061e+02, 3.75094127e+02, 5.49854644e+02, 7.57934611e+02,\n",
       "       9.99334027e+02, 1.27405289e+03, 1.58209121e+03, 1.92344898e+03,\n",
       "       2.29812620e+03, 2.70612287e+03, 3.14743898e+03, 3.62207455e+03,\n",
       "       4.13002957e+03, 4.67130404e+03, 5.24589796e+03, 5.85381133e+03,\n",
       "       6.49504415e+03, 7.16959642e+03, 7.87746814e+03, 8.61865931e+03,\n",
       "       9.39316993e+03, 1.02010000e+04])"
      ]
     },
     "execution_count": 15,
     "metadata": {},
     "output_type": "execute_result"
    }
   ],
   "source": [
    "Y1"
   ]
  },
  {
   "cell_type": "code",
   "execution_count": 16,
   "metadata": {},
   "outputs": [
    {
     "data": {
      "text/plain": [
       "(50,)"
      ]
     },
     "execution_count": 16,
     "metadata": {},
     "output_type": "execute_result"
    }
   ],
   "source": [
    "Y1.shape"
   ]
  },
  {
   "cell_type": "code",
   "execution_count": 17,
   "metadata": {},
   "outputs": [],
   "source": [
    "df1 = np.diff(Y1)/np.diff(X)"
   ]
  },
  {
   "cell_type": "code",
   "execution_count": 18,
   "metadata": {},
   "outputs": [
    {
     "data": {
      "text/plain": [
       "array([-193.91836735, -185.75510204, -177.59183673, -169.42857143,\n",
       "       -161.26530612, -153.10204082, -144.93877551, -136.7755102 ,\n",
       "       -128.6122449 , -120.44897959, -112.28571429, -104.12244898,\n",
       "        -95.95918367,  -87.79591837,  -79.63265306,  -71.46938776,\n",
       "        -63.30612245,  -55.14285714,  -46.97959184,  -38.81632653,\n",
       "        -30.65306122,  -22.48979592,  -14.32653061,   -6.16326531,\n",
       "          2.        ,   10.16326531,   18.32653061,   26.48979592,\n",
       "         34.65306122,   42.81632653,   50.97959184,   59.14285714,\n",
       "         67.30612245,   75.46938776,   83.63265306,   91.79591837,\n",
       "         99.95918367,  108.12244898,  116.28571429,  124.44897959,\n",
       "        132.6122449 ,  140.7755102 ,  148.93877551,  157.10204082,\n",
       "        165.26530612,  173.42857143,  181.59183673,  189.75510204,\n",
       "        197.91836735])"
      ]
     },
     "execution_count": 18,
     "metadata": {},
     "output_type": "execute_result"
    }
   ],
   "source": [
    "df1"
   ]
  },
  {
   "cell_type": "code",
   "execution_count": 19,
   "metadata": {},
   "outputs": [
    {
     "data": {
      "text/plain": [
       "[<matplotlib.lines.Line2D at 0x2819b137be0>]"
      ]
     },
     "execution_count": 19,
     "metadata": {},
     "output_type": "execute_result"
    },
    {
     "data": {
      "image/png": "[encoded data removed]",
      "text/plain": [
       "<Figure size 432x288 with 1 Axes>"
      ]
     },
     "metadata": {
      "needs_background": "light"
     },
     "output_type": "display_data"
    }
   ],
   "source": [
    "plt.plot(X,Y1)"
   ]
  },
  {
   "cell_type": "code",
   "execution_count": 20,
   "metadata": {},
   "outputs": [],
   "source": [
    "df = np.gradient(Y1,X)"
   ]
  },
  {
   "cell_type": "code",
   "execution_count": 21,
   "metadata": {},
   "outputs": [
    {
     "data": {
      "text/plain": [
       "array([-193.91836735, -189.83673469, -181.67346939, -173.51020408,\n",
       "       -165.34693878, -157.18367347, -149.02040816, -140.85714286,\n",
       "       -132.69387755, -124.53061224, -116.36734694, -108.20408163,\n",
       "       -100.04081633,  -91.87755102,  -83.71428571,  -75.55102041,\n",
       "        -67.3877551 ,  -59.2244898 ,  -51.06122449,  -42.89795918,\n",
       "        -34.73469388,  -26.57142857,  -18.40816327,  -10.24489796,\n",
       "         -2.08163265,    6.08163265,   14.24489796,   22.40816327,\n",
       "         30.57142857,   38.73469388,   46.89795918,   55.06122449,\n",
       "         63.2244898 ,   71.3877551 ,   79.55102041,   87.71428571,\n",
       "         95.87755102,  104.04081633,  112.20408163,  120.36734694,\n",
       "        128.53061224,  136.69387755,  144.85714286,  153.02040816,\n",
       "        161.18367347,  169.34693878,  177.51020408,  185.67346939,\n",
       "        193.83673469,  197.91836735])"
      ]
     },
     "execution_count": 21,
     "metadata": {},
     "output_type": "execute_result"
    }
   ],
   "source": [
    "df"
   ]
  },
  {
   "cell_type": "markdown",
   "metadata": {},
   "source": [
    "### Soal 2"
   ]
  },
  {
   "cell_type": "code",
   "execution_count": 24,
   "metadata": {},
   "outputs": [],
   "source": [
    "df = np.diff(Y2)/np.diff(X)"
   ]
  },
  {
   "cell_type": "code",
   "execution_count": 25,
   "metadata": {},
   "outputs": [
    {
     "data": {
      "text/plain": [
       "array([1.15758435e+05, 1.06337860e+05, 9.73171187e+04, 8.86962107e+04,\n",
       "       8.04751362e+04, 7.26538950e+04, 6.52324873e+04, 5.82109130e+04,\n",
       "       5.15891720e+04, 4.53672645e+04, 3.95451903e+04, 3.41229496e+04,\n",
       "       2.91005423e+04, 2.44779683e+04, 2.02552278e+04, 1.64323207e+04,\n",
       "       1.30092470e+04, 9.98600666e+03, 7.36259975e+03, 5.13902624e+03,\n",
       "       3.31528613e+03, 1.89137943e+03, 8.67306122e+02, 2.43066222e+02,\n",
       "       1.86597251e+01, 1.94086631e+02, 7.69346939e+02, 1.74444065e+03,\n",
       "       3.11936776e+03, 4.89412828e+03, 7.06872220e+03, 9.64314952e+03,\n",
       "       1.26174102e+04, 1.59915044e+04, 1.97654319e+04, 2.39391928e+04,\n",
       "       2.85127872e+04, 3.34862149e+04, 3.88594761e+04, 4.46325706e+04,\n",
       "       5.08054985e+04, 5.73782599e+04, 6.43508546e+04, 7.17232828e+04,\n",
       "       7.94955444e+04, 8.76676393e+04, 9.62395677e+04, 1.05211329e+05,\n",
       "       1.14582925e+05])"
      ]
     },
     "execution_count": 25,
     "metadata": {},
     "output_type": "execute_result"
    }
   ],
   "source": [
    "df"
   ]
  },
  {
   "cell_type": "code",
   "execution_count": 22,
   "metadata": {},
   "outputs": [],
   "source": [
    "df = np.gradient(Y2,X)"
   ]
  },
  {
   "cell_type": "code",
   "execution_count": 23,
   "metadata": {},
   "outputs": [
    {
     "data": {
      "text/plain": [
       "array([1.15758435e+05, 1.11048147e+05, 1.01827489e+05, 9.30066647e+04,\n",
       "       8.45856735e+04, 7.65645156e+04, 6.89431912e+04, 6.17217001e+04,\n",
       "       5.49000425e+04, 4.84782182e+04, 4.24562274e+04, 3.68340700e+04,\n",
       "       3.16117459e+04, 2.67892553e+04, 2.23665981e+04, 1.83437743e+04,\n",
       "       1.47207838e+04, 1.14976268e+04, 8.67430321e+03, 6.25081299e+03,\n",
       "       4.22715618e+03, 2.60333278e+03, 1.37934277e+03, 5.55186172e+02,\n",
       "       1.30862974e+02, 1.06373178e+02, 4.81716785e+02, 1.25689379e+03,\n",
       "       2.43190421e+03, 4.00674802e+03, 5.98142524e+03, 8.35593586e+03,\n",
       "       1.11302799e+04, 1.43044573e+04, 1.78784681e+04, 2.18523124e+04,\n",
       "       2.62259900e+04, 3.09995010e+04, 3.61728455e+04, 4.17460233e+04,\n",
       "       4.77190346e+04, 5.40918792e+04, 6.08645573e+04, 6.80370687e+04,\n",
       "       7.56094136e+04, 8.35815918e+04, 9.19536035e+04, 1.00725449e+05,\n",
       "       1.09897127e+05, 1.14582925e+05])"
      ]
     },
     "execution_count": 23,
     "metadata": {},
     "output_type": "execute_result"
    }
   ],
   "source": [
    "df"
   ]
  }
 ],
 "metadata": {
  "interpreter": {
   "hash": "d23b4930bcf002b7ee56c1a8a86419af78ee007acd6edadc8ec90d5a12024bbb"
  },
  "kernelspec": {
   "display_name": "Python 3.9.10 64-bit",
   "language": "python",
   "name": "python3"
  },
  "language_info": {
   "codemirror_mode": {
    "name": "ipython",
    "version": 3
   },
   "file_extension": ".py",
   "mimetype": "text/x-python",
   "name": "python",
   "nbconvert_exporter": "python",
   "pygments_lexer": "ipython3",
   "version": "3.9.10"
  },
  "orig_nbformat": 4
 },
 "nbformat": 4,
 "nbformat_minor": 2
}
