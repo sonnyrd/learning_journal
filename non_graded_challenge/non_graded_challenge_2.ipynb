{
 "cells": [
  {
   "cell_type": "code",
   "execution_count": 200,
   "metadata": {},
   "outputs": [],
   "source": [
    "#Buatlah sebuah function yang dapat mengkonversi suhu dari kelvin ke celcius, dan celcius ke kelvin.\n",
    "#Buatlah sebuah function yang dapat mengkonversi suhu ke fahrenheit. \n",
    "#Tambahkan parameter untuk memastikan bahwa argumen yang dimasukan adalah celcius atau kelvin. Panggil function yang pertama jika diperlukan. \n",
    "#Buatlah sebuah function yang dapat mengkonversi suhu dari fahrenheit. Berikan argumen untuk memastikan bahwa outputnya dalah celcius atau kelvin.\n",
    "#Berikan dokumentasi pada setiap baris kode yang kalian tulis.\n",
    "#Simpan assignment pada sesi ini dengan nama `h8dsft_converter`\n",
    "\n",
    "\n",
    "##global variable\n",
    "suhu = 0\n",
    "type1 = 0\n",
    "type2 = 0\n",
    "\n",
    "#function konversi celcius - kelvin, kelvin - celcius\n",
    "\n",
    "\n",
    "def konverter(suhu,type1,type2):\n",
    "    ''' function untuk melakukan konversi dari suhu awal ke suhu yang diinginkan\n",
    "    Usage : konveter(int,type,type)'''\n",
    "    if type1 == 'c' and type2 == 'k':   #konverter dari celcius ke kelvin\n",
    "        hasil = suhu + 273.15\n",
    "        print(f\"Konversi dari {suhu} Celcius menjadi {hasil} kelvin\")\n",
    "    elif type1 == 'k' and type2 == 'c': #konverter dari kelvin ke celcius\n",
    "        hasil = suhu - 273.15\n",
    "        print(f\"Konversi dari {suhu} kelvin menjadi {hasil} celcius\")\n",
    "    else:\n",
    "        print(\"salah!\")\n",
    "\n",
    "           \n",
    "suhu =  float(input(\"masukan suhu\"))\n",
    "type1 = str(input(\"masukan type suhu awal\"))  \n",
    "type2 = str(input(\"masukan type suhu akhir\"))\n",
    "konverter(suhu,type1,type2)\n",
    "\n",
    "\n"
   ]
  },
  {
   "cell_type": "code",
   "execution_count": 183,
   "metadata": {},
   "outputs": [
    {
     "name": "stdout",
     "output_type": "stream",
     "text": [
      "salah\n"
     ]
    }
   ],
   "source": [
    "suhu = 10\n",
    "if type(suhu) != int and type(suhu) != float:\n",
    "    print('benar')\n",
    "else:\n",
    "    print('salah')"
   ]
  }
 ],
 "metadata": {
  "interpreter": {
   "hash": "aad4cc7dc5e0e99ec296b13465a882b8dc865e3b37306cc675d0b140a9b3a4a7"
  },
  "kernelspec": {
   "display_name": "Python 3.9.7 ('base')",
   "language": "python",
   "name": "python3"
  },
  "language_info": {
   "codemirror_mode": {
    "name": "ipython",
    "version": 3
   },
   "file_extension": ".py",
   "mimetype": "text/x-python",
   "name": "python",
   "nbconvert_exporter": "python",
   "pygments_lexer": "ipython3",
   "version": "3.9.7"
  },
  "orig_nbformat": 4
 },
 "nbformat": 4,
 "nbformat_minor": 2
}
