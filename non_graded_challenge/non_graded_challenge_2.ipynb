{
 "cells": [
  {
   "cell_type": "code",
   "execution_count": 432,
   "metadata": {},
   "outputs": [],
   "source": [
    "#Buatlah sebuah function yang dapat mengkonversi suhu dari kelvin ke celcius, dan celcius ke kelvin.\n",
    "#Buatlah sebuah function yang dapat mengkonversi suhu ke fahrenheit. \n",
    "#Tambahkan parameter untuk memastikan bahwa argumen yang dimasukan adalah celcius atau kelvin. Panggil function yang pertama jika diperlukan. \n",
    "#Buatlah sebuah function yang dapat mengkonversi suhu dari fahrenheit. Berikan argumen untuk memastikan bahwa outputnya dalah celcius atau kelvin.\n",
    "#Berikan dokumentasi pada setiap baris kode yang kalian tulis.\n",
    "#Simpan assignment pada sesi ini dengan nama `h8dsft_converter`"
   ]
  },
  {
   "cell_type": "markdown",
   "metadata": {},
   "source": [
    "### Create function to convert celcius - kelvin / kelvin - celcius"
   ]
  },
  {
   "cell_type": "code",
   "execution_count": 461,
   "metadata": {},
   "outputs": [
    {
     "name": "stdout",
     "output_type": "stream",
     "text": [
      "suhu yang di input adalah 10 celcius \n",
      "Hasil perubahan dari 10 celcius ke kelvin adalah 283.15 kelvin \n"
     ]
    }
   ],
   "source": [
    "\n",
    "#Declare global variable\n",
    "jenis = 0\n",
    "tipe = 0\n",
    "hasil = 0\n",
    "\n",
    "#create a function\n",
    "def cel_kel(suhu,tipe):\n",
    "    global jenis #set var 'jenis' untuk function berikutnya\n",
    "    if tipe == 'c':\n",
    "        jenis = \"celcius\"\n",
    "        jenis2 = \"kelvin\"\n",
    "        hasil = suhu + 273.15\n",
    "        print(f'suhu yang di input adalah {suhu} {jenis} \\nHasil perubahan dari {suhu} {jenis} ke {jenis2} adalah {round(hasil,2)} {jenis2} ')\n",
    "       \n",
    "    elif tipe == 'k':\n",
    "        jenis = \"kelvin\"\n",
    "        jenis2 = \"celcius\"\n",
    "        hasil = suhu - 273.15\n",
    "        print(f'suhu yang di input adalah {suhu} {jenis} \\nHasil perubahan dari {suhu} {jenis} ke Celcius adalah {round(hasil,2)} {jenis2} ')\n",
    "            \n",
    "    else:\n",
    "        print(\"Error! terjadi kesalahan input..\")\n",
    "\n",
    "    return\n",
    "\n",
    "   \n",
    "#call a function\n",
    "suhu = 10  #masukan nilai suhu\n",
    "tipe = 'c' #masukan tipe 'c' untuk celcius / 'k' untuk kelvin  \n",
    "cel_kel(suhu,tipe)\n",
    "\n",
    "\n"
   ]
  },
  {
   "cell_type": "markdown",
   "metadata": {},
   "source": [
    "### Create function to convert from kelvin/celcius to fahrenheit"
   ]
  },
  {
   "cell_type": "code",
   "execution_count": 462,
   "metadata": {},
   "outputs": [
    {
     "name": "stdout",
     "output_type": "stream",
     "text": [
      "Tipe suhu saat ini yaitu celcius\n",
      "Suhu yang di input yaitu 10 celcius dikonversikan menjadi 50.0 fahrenheit\n"
     ]
    }
   ],
   "source": [
    "#create a function\n",
    "print(f\"Tipe suhu saat ini yaitu {jenis}\")\n",
    "def fah(suhu):\n",
    "    global hasil\n",
    "    if jenis == 'celcius':\n",
    "        jenis2 = 'fahrenheit'\n",
    "        hasil = (suhu * 9/5) + 32\n",
    "        print(f'Suhu yang di input yaitu {suhu} {jenis} dikonversikan menjadi {round(hasil,2)} {jenis2}')\n",
    "    if jenis == 'kelvin':\n",
    "        jenis2 = 'fahrenheit'\n",
    "        hasil = (suhu - 273.15) * 9/5 + 32\n",
    "        print(f'Suhu yang di input yaitu {suhu} {jenis} dikonversikan menjadi {round(hasil,2)} {jenis2}')\n",
    "    return\n",
    "\n",
    "#call a function\n",
    "fah(suhu)"
   ]
  },
  {
   "cell_type": "markdown",
   "metadata": {},
   "source": [
    "### Create a function to convert from fahrenheit back to kelvin/celcius"
   ]
  },
  {
   "cell_type": "code",
   "execution_count": 465,
   "metadata": {},
   "outputs": [
    {
     "name": "stdout",
     "output_type": "stream",
     "text": [
      "Konversi dari Fahrenheit ke celciuis yaitu 10.0\n"
     ]
    }
   ],
   "source": [
    "#create a function\n",
    "def fahconvert(tipe):\n",
    "    if tipe == 'c':\n",
    "        hasil2 = (hasil -32) * 5/9\n",
    "        print(f\"Konversi dari Fahrenheit ke celciuis yaitu {round(hasil2,2)}\")\n",
    "\n",
    "    if tipe == 'k':\n",
    "        hasil2 = (hasil -32) * 5/9 + 273.15\n",
    "        print(f\"Konversi dari Fahrenheit ke kelvin yaitu {round(hasil2,2)}\")\n",
    "\n",
    "\n",
    "        \n",
    "\n",
    "#call a function\n",
    "fahconvert('c') #pilih nilai akan di konfersikan ke 'c' untuk celcius atau 'k' untuk kelvin\n"
   ]
  }
 ],
 "metadata": {
  "interpreter": {
   "hash": "aad4cc7dc5e0e99ec296b13465a882b8dc865e3b37306cc675d0b140a9b3a4a7"
  },
  "kernelspec": {
   "display_name": "Python 3.9.7 ('base')",
   "language": "python",
   "name": "python3"
  },
  "language_info": {
   "codemirror_mode": {
    "name": "ipython",
    "version": 3
   },
   "file_extension": ".py",
   "mimetype": "text/x-python",
   "name": "python",
   "nbconvert_exporter": "python",
   "pygments_lexer": "ipython3",
   "version": "3.9.7"
  },
  "orig_nbformat": 4
 },
 "nbformat": 4,
 "nbformat_minor": 2
}
