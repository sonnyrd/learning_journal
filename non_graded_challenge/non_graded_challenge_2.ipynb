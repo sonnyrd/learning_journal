{
 "cells": [
  {
   "cell_type": "code",
   "execution_count": 20,
   "metadata": {},
   "outputs": [
    {
     "name": "stdout",
     "output_type": "stream",
     "text": [
      "Konversi dari 50 kelvin menjadi -223.14999999999998 celcius\n"
     ]
    }
   ],
   "source": [
    "##global variable\n",
    "celcius = 0\n",
    "kelvin = 0\n",
    "\n",
    "#def konversi celcius - kelvin, kelvin - celcius\n",
    "def suhu(celcius,kelvin):\n",
    "    if celcius != 0 and kelvin == 0:\n",
    "        hasil = celcius + 237.15\n",
    "        print(f'Konversi dari {celcius} Celcius menjadi {hasil} kelvin')\n",
    "    elif celcius ==0 and kelvin !=0:\n",
    "        hasil = kelvin - 273.15\n",
    "        print(f'Konversi dari {kelvin} kelvin menjadi {hasil} celcius')\n",
    "    else:\n",
    "        print(f'ERROR! Pilih salah satu suhu yang akan dikonversi')\n",
    "    \n",
    "celcius = 0\n",
    "kelvin = 50\n",
    "suhu(celcius,kelvin)    "
   ]
  }
 ],
 "metadata": {
  "interpreter": {
   "hash": "aad4cc7dc5e0e99ec296b13465a882b8dc865e3b37306cc675d0b140a9b3a4a7"
  },
  "kernelspec": {
   "display_name": "Python 3.9.7 ('base')",
   "language": "python",
   "name": "python3"
  },
  "language_info": {
   "codemirror_mode": {
    "name": "ipython",
    "version": 3
   },
   "file_extension": ".py",
   "mimetype": "text/x-python",
   "name": "python",
   "nbconvert_exporter": "python",
   "pygments_lexer": "ipython3",
   "version": "3.9.7"
  },
  "orig_nbformat": 4
 },
 "nbformat": 4,
 "nbformat_minor": 2
}
