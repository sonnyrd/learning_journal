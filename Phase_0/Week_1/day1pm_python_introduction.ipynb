{
 "cells": [
  {
   "cell_type": "markdown",
   "metadata": {},
   "source": [
    "# Day 1 PM - Python Intro"
   ]
  },
  {
   "cell_type": "markdown",
   "metadata": {},
   "source": [
    "#### Math Operator\n",
    "|Operator|Operation|Example|\n",
    "|:-------|:-------:|:------|\n",
    "|**      |Exponent| 3**3 = 27|\n",
    "|%|Modulus/Remainder|10 % 4 = 2|\n",
    "|//|Integer division|30 // 10 = 3|\n",
    "|/|Division|10/3 = 3.3333|\n",
    "|*|Multiplication|3*3 = 9|\n",
    "|-|Subtraction|4-3 = 1|\n",
    "|+|addition|3+4 =7|"
   ]
  },
  {
   "cell_type": "code",
   "execution_count": 29,
   "metadata": {},
   "outputs": [
    {
     "name": "stdout",
     "output_type": "stream",
     "text": [
      "27\n",
      "2\n",
      "3\n",
      "3.3333333333333335\n",
      "9\n",
      "1\n",
      "7\n"
     ]
    }
   ],
   "source": [
    "##Exponent /pangkat\n",
    "varExponent = 3**3\n",
    "print(varExponent)\n",
    "\n",
    "##Modulus/Remainder/sisa pembagian\n",
    "varModulus = 10%4\n",
    "print(varModulus)\n",
    "\n",
    "#Integer division / pembagian bilangan bulat\n",
    "varIntDiv = 31 // 10\n",
    "print(varIntDiv)\n",
    "\n",
    "#Division / pembagian\n",
    "varDiv = 10/3\n",
    "print(varDiv)\n",
    "\n",
    "#Multiplication / perkalian\n",
    "varMul = 3*3\n",
    "print(varMul)\n",
    "\n",
    "#Subtraction / pengurangan\n",
    "varSubt = 4-3\n",
    "print(varSubt)\n",
    "\n",
    "#Addition / penambahan\n",
    "varAdd = 3+4\n",
    "print(varAdd)"
   ]
  },
  {
   "cell_type": "markdown",
   "metadata": {},
   "source": [
    "#### Data Types\n",
    "|Data Type(1)|Data type(2)|Type|Example\n",
    "|:-------|:------|:----|:----|\n",
    "|String|Huruf|str|\"Anggur\"|\n",
    "|Integer|Bilangan bulat|int|-1,0,1,2|\n",
    "|Float|Bilangan Desimal|float|18.5|\n",
    "|Complex|bilangan complex|complex|1a\n",
    "||||"
   ]
  },
  {
   "cell_type": "code",
   "execution_count": 30,
   "metadata": {},
   "outputs": [
    {
     "name": "stdout",
     "output_type": "stream",
     "text": [
      "Test\n",
      "<class 'str'>\n",
      "17\n",
      "<class 'int'>\n",
      "18.5\n",
      "<class 'float'>\n",
      "1j\n",
      "<class 'complex'>\n",
      "['ayam', 'bebek', 'Capung', 'domba', 'elang']\n",
      "<class 'list'>\n",
      "('ayam', 'bebek', 'Capung', 'domba', 'elang')\n",
      "<class 'tuple'>\n",
      "range(0, 6)\n",
      "<class 'range'>\n",
      "{'name': 'sonny', 'age': 28}\n",
      "<class 'dict'>\n",
      "{'cacing', 'bebek', 'ayam'}\n",
      "<class 'set'>\n",
      "frozenset({'cacing', 'bebek', 'ayam'})\n",
      "<class 'frozenset'>\n"
     ]
    }
   ],
   "source": [
    "#Text type = str // Huruf\n",
    "varStr = \"Test\"\n",
    "print(varStr)\n",
    "print(type(varStr))\n",
    "\n",
    "#Numeric types = int,float,complex // bilangan bulat, bilangan desimal, bilangan kompleks\n",
    "varInt = 17\n",
    "varFloat = 18.5\n",
    "varComplex = 1j\n",
    "print(varInt)\n",
    "print(type(varInt))\n",
    "print(varFloat)\n",
    "print(type(varFloat))\n",
    "print(varComplex)\n",
    "print(type(varComplex))\n",
    "\n",
    "#Sequence Types = list,tuple,range\n",
    "varList = [\"ayam\",\"bebek\",\"Capung\",\"domba\",\"elang\"]\n",
    "varTuple =  (\"ayam\",\"bebek\",\"Capung\",\"domba\",\"elang\")\n",
    "varRange = range(6)\n",
    "print(varList)\n",
    "print(type(varList))\n",
    "print(varTuple)\n",
    "print(type(varTuple))\n",
    "print(varRange)\n",
    "print(type(varRange))\n",
    "\n",
    "#Mapping Type = dict\n",
    "varDict = {\"name\":\"sonny\",\"age\":28}\n",
    "print(varDict)\n",
    "print(type(varDict))\n",
    "\n",
    "#Set Types = set , frozenset\n",
    "varSet = {\"ayam\",\"bebek\", \"cacing\"}\n",
    "print(varSet)\n",
    "print(type(varSet))\n",
    "\n",
    "varFrozenset = frozenset({\"ayam\",\"bebek\", \"cacing\"})\n",
    "print(varFrozenset)\n",
    "print(type(varFrozenset))\n",
    "\n",
    "#Boolean Type = bool\n",
    "\n",
    "#Binary Types = bytes, bytearray, memoryview"
   ]
  }
 ],
 "metadata": {
  "interpreter": {
   "hash": "d23b4930bcf002b7ee56c1a8a86419af78ee007acd6edadc8ec90d5a12024bbb"
  },
  "kernelspec": {
   "display_name": "Python 3.9.10 64-bit",
   "language": "python",
   "name": "python3"
  },
  "language_info": {
   "codemirror_mode": {
    "name": "ipython",
    "version": 3
   },
   "file_extension": ".py",
   "mimetype": "text/x-python",
   "name": "python",
   "nbconvert_exporter": "python",
   "pygments_lexer": "ipython3",
   "version": "3.9.7"
  },
  "orig_nbformat": 4
 },
 "nbformat": 4,
 "nbformat_minor": 2
}
