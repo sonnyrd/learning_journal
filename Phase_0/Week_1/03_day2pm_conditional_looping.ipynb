{
 "cells": [
  {
   "cell_type": "markdown",
   "metadata": {},
   "source": [
    "# Day 2 PM Conditional Looping"
   ]
  },
  {
   "cell_type": "markdown",
   "metadata": {},
   "source": [
    "## IF statement"
   ]
  },
  {
   "cell_type": "code",
   "execution_count": 42,
   "metadata": {},
   "outputs": [
    {
     "name": "stdout",
     "output_type": "stream",
     "text": [
      "9 lebih kecil dari 10\n",
      "False\n"
     ]
    }
   ],
   "source": [
    "#<If statement> hanya menjalankan program jika memenuhi kondisi yang sudah ditentukan\n",
    "# if <condition>:\n",
    "\n",
    "angka = 9\n",
    "if angka > 10:\n",
    "    print(f\"{angka} lebih besar dari 10\")\n",
    "else:\n",
    "    print(f\"{angka} lebih kecil dari 10\")\n",
    "   \n",
    "\n",
    "    \n",
    "\n"
   ]
  },
  {
   "cell_type": "code",
   "execution_count": 46,
   "metadata": {},
   "outputs": [
    {
     "name": "stdout",
     "output_type": "stream",
     "text": [
      "3 adalah ganjil\n"
     ]
    }
   ],
   "source": [
    "#cek ganjil genap\n",
    "angka = 3\n",
    "if angka % 2 == 0:\n",
    "    print(f\"{angka} adalah angka genap\")\n",
    "else:\n",
    "    print(f\"{angka} adalah angka ganjil\")"
   ]
  },
  {
   "cell_type": "code",
   "execution_count": 61,
   "metadata": {},
   "outputs": [
    {
     "name": "stdout",
     "output_type": "stream",
     "text": [
      "11 lebih besar dari 10\n"
     ]
    }
   ],
   "source": [
    "# kondisi lebih dari 2\n",
    "angka = 11\n",
    "if angka > 10:\n",
    "    print(f\"{angka} lebih besar dari 10\")\n",
    "elif angka == 10:\n",
    "    print(f\"{angka} sama dengan 10\")\n",
    "else:\n",
    "    print(f\"{angka} lebih kecil dari 10\")"
   ]
  },
  {
   "cell_type": "markdown",
   "metadata": {},
   "source": [
    "## If statement List"
   ]
  },
  {
   "cell_type": "code",
   "execution_count": 65,
   "metadata": {},
   "outputs": [],
   "source": [
    "menu = [\"nasi goreng\",\n",
    "        \"mie ayam\",\n",
    "        \"soto ayam\",\n",
    "        \"ayam penyet\"]\n",
    "            "
   ]
  },
  {
   "cell_type": "code",
   "execution_count": 68,
   "metadata": {},
   "outputs": [
    {
     "data": {
      "text/plain": [
       "True"
      ]
     },
     "execution_count": 68,
     "metadata": {},
     "output_type": "execute_result"
    }
   ],
   "source": [
    "\"nasi goreng\" in menu"
   ]
  },
  {
   "cell_type": "code",
   "execution_count": 71,
   "metadata": {},
   "outputs": [
    {
     "name": "stdout",
     "output_type": "stream",
     "text": [
      "abangnya jual mie ayam\n"
     ]
    }
   ],
   "source": [
    "makanan = \"mie ayam\"\n",
    "if makanan in menu:\n",
    "    print(f\"abangnya jual {makanan}\")\n",
    "else:\n",
    "    print(f\"abangnya tidak jual {makanan}\")"
   ]
  },
  {
   "cell_type": "markdown",
   "metadata": {},
   "source": [
    "## Nested If ( If bersarang)"
   ]
  },
  {
   "cell_type": "code",
   "execution_count": 81,
   "metadata": {},
   "outputs": [
    {
     "name": "stdout",
     "output_type": "stream",
     "text": [
      "tidak mampir sama sekali, cari tukang buah lain\n"
     ]
    }
   ],
   "source": [
    "#kasus\n",
    "#mencari tukang buah\n",
    "#mau mampir kalau tukang buah nya menjual lebih dari tiga jenis buah\n",
    "#kalau kurang maka saya skip\n",
    "#kalau lebih saya cari apakah ada jeruk atau tidak\n",
    "\n",
    "tukang_buah = [\"jeruk\", \"pisang\", \"pepaya\", \"mangga\"]\n",
    "if len(tukang_buah) > 3:\n",
    "    if 'jeruk' in tukang_buah:\n",
    "        print(\"beli jeruk\")\n",
    "    else:\n",
    "        print(\"mampir aja\")\n",
    "else:\n",
    "    print(\"Skip, cari tukang buah lain\")\n"
   ]
  },
  {
   "cell_type": "code",
   "execution_count": 82,
   "metadata": {},
   "outputs": [
    {
     "data": {
      "text/plain": [
       "2"
      ]
     },
     "execution_count": 82,
     "metadata": {},
     "output_type": "execute_result"
    }
   ],
   "source": [
    "len(tukang_buah)"
   ]
  },
  {
   "cell_type": "code",
   "execution_count": 90,
   "metadata": {},
   "outputs": [
    {
     "data": {
      "text/plain": [
       "True"
      ]
     },
     "execution_count": 90,
     "metadata": {},
     "output_type": "execute_result"
    }
   ],
   "source": [
    "True or True"
   ]
  },
  {
   "cell_type": "code",
   "execution_count": 94,
   "metadata": {},
   "outputs": [
    {
     "name": "stdout",
     "output_type": "stream",
     "text": [
      "mampir\n"
     ]
    }
   ],
   "source": [
    "#If interval\n",
    "#and\n",
    "#or\n",
    "\n",
    "tukang_buah = [\"jeruk\", \"pisang\", \"mangga\"]\n",
    "if 'jeruk' in tukang_buah and 'mangga' in tukang_buah:\n",
    "    print(\"mampir\")\n",
    "else:\n",
    "    print(\"skip, cari yang lain\")"
   ]
  },
  {
   "cell_type": "code",
   "execution_count": 98,
   "metadata": {},
   "outputs": [
    {
     "name": "stdout",
     "output_type": "stream",
     "text": [
      "mampir\n"
     ]
    }
   ],
   "source": [
    "#If interval\n",
    "#and\n",
    "#or\n",
    "\n",
    "tukang_buah = [\"jeruk\", \"pisang\", \"mangga\"]\n",
    "if 'jeruk' and 'mangga' in tukang_buah:\n",
    "    print(\"mampir\")\n",
    "else:\n",
    "    print(\"skip, cari yang lain\")"
   ]
  },
  {
   "cell_type": "markdown",
   "metadata": {},
   "source": [
    "## ** Challenge **"
   ]
  },
  {
   "cell_type": "code",
   "execution_count": 119,
   "metadata": {},
   "outputs": [
    {
     "name": "stdout",
     "output_type": "stream",
     "text": [
      "nilai c\n"
     ]
    }
   ],
   "source": [
    "#dosen ingin menginput nilai\n",
    "# A = 80 - 100\n",
    "# B = 65 - 80\n",
    "# c = 40 - 65\n",
    "# d = 20 - 40\n",
    "# e = 0 - 20\n",
    "\n",
    "nilai = 45\n",
    "if nilai >= 80:\n",
    "    print(\"nilai a\")\n",
    "elif nilai >= 65:\n",
    "    print(\"nilai b\")\n",
    "elif nilai >= 40:\n",
    "    print(\"nilai c\")\n",
    "elif nilai >= 20:\n",
    "    print(\"nilai d\")\n",
    "elif nilai <= 20:\n",
    "    print(\"nilai e\")\n",
    "else:\n",
    "    print(\"nilai invalid\")\n"
   ]
  },
  {
   "cell_type": "code",
   "execution_count": 127,
   "metadata": {},
   "outputs": [
    {
     "name": "stdout",
     "output_type": "stream",
     "text": [
      "nilai b\n"
     ]
    }
   ],
   "source": [
    "angka = 75\n",
    "\n",
    "if angka >= 0 and angka <= 100:\n",
    "    if angka >= 80:\n",
    "        print(\"nilai a\")\n",
    "    elif angka >= 65:\n",
    "        print(\"nilai b\")\n",
    "    elif angka >=40:\n",
    "        print(\"nilai c\")\n",
    "    elif angka >=20:\n",
    "        print(\"nilai d\")\n",
    "    else:\n",
    "        print(\"nilai e\")"
   ]
  },
  {
   "cell_type": "code",
   "execution_count": 149,
   "metadata": {},
   "outputs": [
    {
     "name": "stdout",
     "output_type": "stream",
     "text": [
      "nilai e\n"
     ]
    }
   ],
   "source": [
    "\n",
    "angka = input(\"masukin angka : \")\n",
    "if angka.isnumeric(): # cek apakah input angka\n",
    "    angka = float(angka)\n",
    "    if angka >= 0 and angka <= 100:\n",
    "        if angka >= 80:\n",
    "            print(\"nilai a\")\n",
    "        elif angka >= 65:\n",
    "            print(\"nilai b\")\n",
    "        elif angka >=40:\n",
    "            print(\"nilai c\")\n",
    "        elif angka >=20:\n",
    "            print(\"nilai d\")\n",
    "        else:\n",
    "            print(\"nilai e\")\n",
    "else:\n",
    "    print (\"input bukan angka\")\n"
   ]
  },
  {
   "cell_type": "code",
   "execution_count": 136,
   "metadata": {},
   "outputs": [],
   "source": [
    "angka = input(\"masukin angka : \")\n",
    "angka = float(angka)"
   ]
  },
  {
   "cell_type": "code",
   "execution_count": 137,
   "metadata": {},
   "outputs": [
    {
     "name": "stdout",
     "output_type": "stream",
     "text": [
      "10.0\n"
     ]
    }
   ],
   "source": [
    "print(angka)"
   ]
  },
  {
   "cell_type": "code",
   "execution_count": 141,
   "metadata": {},
   "outputs": [
    {
     "data": {
      "text/plain": [
       "20.0"
      ]
     },
     "execution_count": 141,
     "metadata": {},
     "output_type": "execute_result"
    }
   ],
   "source": [
    "angka + 5"
   ]
  },
  {
   "cell_type": "code",
   "execution_count": 152,
   "metadata": {},
   "outputs": [
    {
     "data": {
      "text/plain": [
       "True"
      ]
     },
     "execution_count": 152,
     "metadata": {},
     "output_type": "execute_result"
    }
   ],
   "source": [
    "'5'.isnumeric()"
   ]
  },
  {
   "cell_type": "markdown",
   "metadata": {},
   "source": [
    "## Looping"
   ]
  },
  {
   "cell_type": "code",
   "execution_count": 2,
   "metadata": {},
   "outputs": [
    {
     "name": "stdout",
     "output_type": "stream",
     "text": [
      "i ke 0\n",
      "halo, saya sonny\n",
      "i ke 1\n",
      "halo, saya sonny\n",
      "i ke 2\n",
      "halo, saya sonny\n",
      "i ke 3\n",
      "halo, saya sonny\n",
      "i ke 4\n",
      "halo, saya sonny\n",
      "5\n"
     ]
    }
   ],
   "source": [
    "#while\n",
    "# while <condition>:\n",
    "# selama memenuhi kondisi maka tolong jalanin terus\n",
    "\n",
    "i = 0\n",
    "while i < 5:\n",
    "    print(f\"i ke {i}\")\n",
    "    print(\"halo, saya sonny\")\n",
    "    i = i + 1\n",
    "\n",
    "print(i)"
   ]
  },
  {
   "cell_type": "code",
   "execution_count": 4,
   "metadata": {},
   "outputs": [
    {
     "name": "stdout",
     "output_type": "stream",
     "text": [
      "5\n"
     ]
    }
   ],
   "source": [
    "print(i)"
   ]
  },
  {
   "cell_type": "code",
   "execution_count": 9,
   "metadata": {},
   "outputs": [],
   "source": [
    "#mau memasukan input yang dimasukan oleh user kedalam list pesanan, selama yang di input bukan kata cukup\n",
    "pesanan = []\n",
    "pesan = ''\n",
    "while pesan != 'cukup':\n",
    "    pesan = input(\"masukan pesanan anda\")\n",
    "    if pesan != 'cukup':\n",
    "        pesanan.append(pesan)\n",
    "    "
   ]
  },
  {
   "cell_type": "code",
   "execution_count": 11,
   "metadata": {},
   "outputs": [
    {
     "name": "stdout",
     "output_type": "stream",
     "text": [
      "['ayam goreng', 'pisang goreng', 'nasi goreng', 'es teh']\n"
     ]
    }
   ],
   "source": [
    "print(pesanan)"
   ]
  },
  {
   "cell_type": "code",
   "execution_count": 48,
   "metadata": {},
   "outputs": [
    {
     "name": "stdout",
     "output_type": "stream",
     "text": [
      "7 x 1 = 7\n",
      "7 x 2 = 14\n",
      "7 x 3 = 21\n",
      "7 x 4 = 28\n",
      "7 x 5 = 35\n",
      "7 x 6 = 42\n",
      "7 x 7 = 49\n",
      "7 x 8 = 56\n",
      "7 x 9 = 63\n",
      "7 x 10 = 70\n"
     ]
    }
   ],
   "source": [
    "#bikin tabel perkalian 7\n",
    "\n",
    "i = 1\n",
    "while i <= 10:\n",
    "    print(f\"7 x {i} = {7*i}\")\n",
    "    i = i + 1"
   ]
  },
  {
   "cell_type": "code",
   "execution_count": 51,
   "metadata": {},
   "outputs": [
    {
     "name": "stdout",
     "output_type": "stream",
     "text": [
      "7 x 1 = 7\n",
      "7 x 2 = 14\n",
      "7 x 3 = 21\n",
      "7 x 4 = 28\n",
      "7 x 5 = 35\n",
      "7 x 6 = 42\n",
      "7 x 7 = 49\n",
      "7 x 8 = 56\n",
      "7 x 9 = 63\n",
      "7 x 10 = 70\n"
     ]
    }
   ],
   "source": [
    "for i in range(1, 11):\n",
    "    print(f\"7 x {i} = {7*i}\")"
   ]
  },
  {
   "cell_type": "code",
   "execution_count": 52,
   "metadata": {},
   "outputs": [
    {
     "name": "stdout",
     "output_type": "stream",
     "text": [
      "1 x 1 = 1\n",
      "1 x 2 = 2\n",
      "1 x 3 = 3\n",
      "1 x 4 = 4\n",
      "1 x 5 = 5\n",
      "1 x 6 = 6\n",
      "1 x 7 = 7\n",
      "1 x 8 = 8\n",
      "1 x 9 = 9\n",
      "1 x 10 = 10\n",
      "**************************************************\n",
      "2 x 1 = 2\n",
      "2 x 2 = 4\n",
      "2 x 3 = 6\n",
      "2 x 4 = 8\n",
      "2 x 5 = 10\n",
      "2 x 6 = 12\n",
      "2 x 7 = 14\n",
      "2 x 8 = 16\n",
      "2 x 9 = 18\n",
      "2 x 10 = 20\n",
      "**************************************************\n",
      "3 x 1 = 3\n",
      "3 x 2 = 6\n",
      "3 x 3 = 9\n",
      "3 x 4 = 12\n",
      "3 x 5 = 15\n",
      "3 x 6 = 18\n",
      "3 x 7 = 21\n",
      "3 x 8 = 24\n",
      "3 x 9 = 27\n",
      "3 x 10 = 30\n",
      "**************************************************\n",
      "4 x 1 = 4\n",
      "4 x 2 = 8\n",
      "4 x 3 = 12\n",
      "4 x 4 = 16\n",
      "4 x 5 = 20\n",
      "4 x 6 = 24\n",
      "4 x 7 = 28\n",
      "4 x 8 = 32\n",
      "4 x 9 = 36\n",
      "4 x 10 = 40\n",
      "**************************************************\n",
      "5 x 1 = 5\n",
      "5 x 2 = 10\n",
      "5 x 3 = 15\n",
      "5 x 4 = 20\n",
      "5 x 5 = 25\n",
      "5 x 6 = 30\n",
      "5 x 7 = 35\n",
      "5 x 8 = 40\n",
      "5 x 9 = 45\n",
      "5 x 10 = 50\n",
      "**************************************************\n",
      "6 x 1 = 6\n",
      "6 x 2 = 12\n",
      "6 x 3 = 18\n",
      "6 x 4 = 24\n",
      "6 x 5 = 30\n",
      "6 x 6 = 36\n",
      "6 x 7 = 42\n",
      "6 x 8 = 48\n",
      "6 x 9 = 54\n",
      "6 x 10 = 60\n",
      "**************************************************\n",
      "7 x 1 = 7\n",
      "7 x 2 = 14\n",
      "7 x 3 = 21\n",
      "7 x 4 = 28\n",
      "7 x 5 = 35\n",
      "7 x 6 = 42\n",
      "7 x 7 = 49\n",
      "7 x 8 = 56\n",
      "7 x 9 = 63\n",
      "7 x 10 = 70\n",
      "**************************************************\n",
      "8 x 1 = 8\n",
      "8 x 2 = 16\n",
      "8 x 3 = 24\n",
      "8 x 4 = 32\n",
      "8 x 5 = 40\n",
      "8 x 6 = 48\n",
      "8 x 7 = 56\n",
      "8 x 8 = 64\n",
      "8 x 9 = 72\n",
      "8 x 10 = 80\n",
      "**************************************************\n",
      "9 x 1 = 9\n",
      "9 x 2 = 18\n",
      "9 x 3 = 27\n",
      "9 x 4 = 36\n",
      "9 x 5 = 45\n",
      "9 x 6 = 54\n",
      "9 x 7 = 63\n",
      "9 x 8 = 72\n",
      "9 x 9 = 81\n",
      "9 x 10 = 90\n",
      "**************************************************\n",
      "10 x 1 = 10\n",
      "10 x 2 = 20\n",
      "10 x 3 = 30\n",
      "10 x 4 = 40\n",
      "10 x 5 = 50\n",
      "10 x 6 = 60\n",
      "10 x 7 = 70\n",
      "10 x 8 = 80\n",
      "10 x 9 = 90\n",
      "10 x 10 = 100\n",
      "**************************************************\n"
     ]
    }
   ],
   "source": [
    "for j in range (1,11):\n",
    "    for i in range(1,11):\n",
    "        print(f\"{j} x {i} = {j*i}\")\n",
    "    print(\"*\"*50)"
   ]
  },
  {
   "cell_type": "markdown",
   "metadata": {},
   "source": [
    "## Nested While"
   ]
  },
  {
   "cell_type": "code",
   "execution_count": 15,
   "metadata": {},
   "outputs": [
    {
     "name": "stdout",
     "output_type": "stream",
     "text": [
      "1 x 1 = 1\n",
      "1 x 2 = 2\n",
      "1 x 3 = 3\n",
      "1 x 4 = 4\n",
      "1 x 5 = 5\n",
      "1 x 6 = 6\n",
      "1 x 7 = 7\n",
      "1 x 8 = 8\n",
      "1 x 9 = 9\n",
      "1 x 10 = 10\n",
      "**************************************************\n",
      "2 x 1 = 2\n",
      "2 x 2 = 4\n",
      "2 x 3 = 6\n",
      "2 x 4 = 8\n",
      "2 x 5 = 10\n",
      "2 x 6 = 12\n",
      "2 x 7 = 14\n",
      "2 x 8 = 16\n",
      "2 x 9 = 18\n",
      "2 x 10 = 20\n",
      "**************************************************\n",
      "3 x 1 = 3\n",
      "3 x 2 = 6\n",
      "3 x 3 = 9\n",
      "3 x 4 = 12\n",
      "3 x 5 = 15\n",
      "3 x 6 = 18\n",
      "3 x 7 = 21\n",
      "3 x 8 = 24\n",
      "3 x 9 = 27\n",
      "3 x 10 = 30\n",
      "**************************************************\n",
      "4 x 1 = 4\n",
      "4 x 2 = 8\n",
      "4 x 3 = 12\n",
      "4 x 4 = 16\n",
      "4 x 5 = 20\n",
      "4 x 6 = 24\n",
      "4 x 7 = 28\n",
      "4 x 8 = 32\n",
      "4 x 9 = 36\n",
      "4 x 10 = 40\n",
      "**************************************************\n",
      "5 x 1 = 5\n",
      "5 x 2 = 10\n",
      "5 x 3 = 15\n",
      "5 x 4 = 20\n",
      "5 x 5 = 25\n",
      "5 x 6 = 30\n",
      "5 x 7 = 35\n",
      "5 x 8 = 40\n",
      "5 x 9 = 45\n",
      "5 x 10 = 50\n",
      "**************************************************\n",
      "6 x 1 = 6\n",
      "6 x 2 = 12\n",
      "6 x 3 = 18\n",
      "6 x 4 = 24\n",
      "6 x 5 = 30\n",
      "6 x 6 = 36\n",
      "6 x 7 = 42\n",
      "6 x 8 = 48\n",
      "6 x 9 = 54\n",
      "6 x 10 = 60\n",
      "**************************************************\n",
      "7 x 1 = 7\n",
      "7 x 2 = 14\n",
      "7 x 3 = 21\n",
      "7 x 4 = 28\n",
      "7 x 5 = 35\n",
      "7 x 6 = 42\n",
      "7 x 7 = 49\n",
      "7 x 8 = 56\n",
      "7 x 9 = 63\n",
      "7 x 10 = 70\n",
      "**************************************************\n",
      "8 x 1 = 8\n",
      "8 x 2 = 16\n",
      "8 x 3 = 24\n",
      "8 x 4 = 32\n",
      "8 x 5 = 40\n",
      "8 x 6 = 48\n",
      "8 x 7 = 56\n",
      "8 x 8 = 64\n",
      "8 x 9 = 72\n",
      "8 x 10 = 80\n",
      "**************************************************\n",
      "9 x 1 = 9\n",
      "9 x 2 = 18\n",
      "9 x 3 = 27\n",
      "9 x 4 = 36\n",
      "9 x 5 = 45\n",
      "9 x 6 = 54\n",
      "9 x 7 = 63\n",
      "9 x 8 = 72\n",
      "9 x 9 = 81\n",
      "9 x 10 = 90\n",
      "**************************************************\n",
      "10 x 1 = 10\n",
      "10 x 2 = 20\n",
      "10 x 3 = 30\n",
      "10 x 4 = 40\n",
      "10 x 5 = 50\n",
      "10 x 6 = 60\n",
      "10 x 7 = 70\n",
      "10 x 8 = 80\n",
      "10 x 9 = 90\n",
      "10 x 10 = 100\n",
      "**************************************************\n"
     ]
    }
   ],
   "source": [
    "i = 1\n",
    "j = 1\n",
    "\n",
    "while j <= 10:\n",
    "    while i <=10:\n",
    "        print(f\"{j} x {i} = {j*i}\")\n",
    "        i = i+1\n",
    "    j = j+1\n",
    "    i =1 \n",
    "    print(\"*\"*50)"
   ]
  },
  {
   "cell_type": "markdown",
   "metadata": {},
   "source": [
    "## for loop"
   ]
  },
  {
   "cell_type": "code",
   "execution_count": 16,
   "metadata": {},
   "outputs": [],
   "source": [
    "#for\n",
    "#tidak membutuhkan kondisi tapi membuntuhkan tipe data majemuk (list,tuple,dictionary)"
   ]
  },
  {
   "cell_type": "code",
   "execution_count": 28,
   "metadata": {},
   "outputs": [
    {
     "name": "stdout",
     "output_type": "stream",
     "text": [
      "abang ini jual pepaya\n",
      "abang ini jual mangga\n",
      "abang ini jual pisang\n",
      "abang ini jual jambu\n"
     ]
    }
   ],
   "source": [
    "#review menggunakan while\n",
    "tukang_buah = [\"pepaya\", \"mangga\", \"pisang\", \"jambu\"]\n",
    "i = 0\n",
    "while i < len(tukang_buah):\n",
    "    print(f\"abang ini jual {tukang_buah[i]}\")\n",
    "    i = i + 1\n"
   ]
  },
  {
   "cell_type": "code",
   "execution_count": 27,
   "metadata": {},
   "outputs": [
    {
     "name": "stdout",
     "output_type": "stream",
     "text": [
      "pepaya\n",
      "4\n"
     ]
    }
   ],
   "source": [
    "print(tukang_buah[-4])\n",
    "print(len(tukang_buah))"
   ]
  },
  {
   "cell_type": "code",
   "execution_count": 32,
   "metadata": {},
   "outputs": [
    {
     "name": "stdout",
     "output_type": "stream",
     "text": [
      "abang ini jual pepaya\n",
      "abang ini jual mangga\n",
      "abang ini jual pisang\n",
      "abang ini jual jambu\n"
     ]
    }
   ],
   "source": [
    "tukang_buah = [\"pepaya\", \"mangga\", \"pisang\", \"jambu\"]\n",
    "for buah in tukang_buah:\n",
    "    print(f\"abang ini jual {buah}\")\n"
   ]
  },
  {
   "cell_type": "code",
   "execution_count": 34,
   "metadata": {},
   "outputs": [
    {
     "name": "stdout",
     "output_type": "stream",
     "text": [
      "abang ini jual pepaya\n",
      "abang ini jual mangga\n",
      "abang ini jual pisang\n",
      "abang ini jual jambu\n"
     ]
    }
   ],
   "source": [
    "tukang_buah = [\"pepaya\", \"mangga\", \"pisang\", \"jambu\"]\n",
    "\n",
    "for i in [0,1,2,3]:\n",
    "     print(f\"abang ini jual {tukang_buah[i]}\")"
   ]
  },
  {
   "cell_type": "code",
   "execution_count": 44,
   "metadata": {},
   "outputs": [
    {
     "data": {
      "text/plain": [
       "[0, 1, 2, 3]"
      ]
     },
     "execution_count": 44,
     "metadata": {},
     "output_type": "execute_result"
    }
   ],
   "source": [
    "list(range(len(tukang_buah)))"
   ]
  },
  {
   "cell_type": "markdown",
   "metadata": {},
   "source": [
    "## Range"
   ]
  },
  {
   "cell_type": "code",
   "execution_count": 40,
   "metadata": {},
   "outputs": [],
   "source": [
    "#range berfungsi membuat list dari angka yang berurutan\n",
    "#range(a,b,c)\n",
    "#a = nilai awal\n",
    "#b = nilai sebelum akhir\n",
    "#c = beda nya (1,2,3)/ (2,4,6)"
   ]
  },
  {
   "cell_type": "code",
   "execution_count": 42,
   "metadata": {},
   "outputs": [
    {
     "data": {
      "text/plain": [
       "[0, 1, 2, 3, 4, 5, 6, 7, 8, 9]"
      ]
     },
     "execution_count": 42,
     "metadata": {},
     "output_type": "execute_result"
    }
   ],
   "source": [
    "list(range(10))"
   ]
  },
  {
   "cell_type": "code",
   "execution_count": 37,
   "metadata": {},
   "outputs": [
    {
     "data": {
      "text/plain": [
       "[1, 2, 3, 4, 5, 6, 7, 8, 9]"
      ]
     },
     "execution_count": 37,
     "metadata": {},
     "output_type": "execute_result"
    }
   ],
   "source": [
    "list(range(1,10,1))"
   ]
  },
  {
   "cell_type": "code",
   "execution_count": 47,
   "metadata": {},
   "outputs": [
    {
     "name": "stdout",
     "output_type": "stream",
     "text": [
      "abang ini jual pepaya, ket : banyak\n",
      "abang ini jual mangga, ket : sedikit\n",
      "abang ini jual pisang, ket : ready\n",
      "abang ini jual jambu, ket : ready juga\n"
     ]
    }
   ],
   "source": [
    "tukang_buah = [\"pepaya\", \"mangga\", \"pisang\", \"jambu\"]\n",
    "ket = [\"banyak\", \"sedikit\", \"ready\",\"ready juga\"]\n",
    "\n",
    "for i in range(len(tukang_buah)):\n",
    "     print(f\"abang ini jual {tukang_buah[i]}, ket : {ket[i]}\" )"
   ]
  }
 ],
 "metadata": {
  "interpreter": {
   "hash": "d23b4930bcf002b7ee56c1a8a86419af78ee007acd6edadc8ec90d5a12024bbb"
  },
  "kernelspec": {
   "display_name": "Python 3.9.10 64-bit",
   "language": "python",
   "name": "python3"
  },
  "language_info": {
   "codemirror_mode": {
    "name": "ipython",
    "version": 3
   },
   "file_extension": ".py",
   "mimetype": "text/x-python",
   "name": "python",
   "nbconvert_exporter": "python",
   "pygments_lexer": "ipython3",
   "version": "3.9.7"
  },
  "orig_nbformat": 4
 },
 "nbformat": 4,
 "nbformat_minor": 2
}
