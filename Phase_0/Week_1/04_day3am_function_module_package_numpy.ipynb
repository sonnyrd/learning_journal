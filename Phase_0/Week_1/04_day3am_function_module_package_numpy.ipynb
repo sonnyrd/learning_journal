{
 "cells": [
  {
   "cell_type": "markdown",
   "metadata": {},
   "source": [
    "# Function, Package & Numpy"
   ]
  },
  {
   "cell_type": "markdown",
   "metadata": {},
   "source": [
    "## Function\n",
    "\n"
   ]
  },
  {
   "cell_type": "code",
   "execution_count": 9,
   "metadata": {},
   "outputs": [
    {
     "name": "stdout",
     "output_type": "stream",
     "text": [
      "dua\n"
     ]
    }
   ],
   "source": [
    "def printstr(str):\n",
    "    print(str)\n",
    "\n",
    "str = 'satu'\n",
    "abc = 'dua'\n",
    "printstr(abc)\n"
   ]
  },
  {
   "cell_type": "code",
   "execution_count": 11,
   "metadata": {},
   "outputs": [
    {
     "name": "stdout",
     "output_type": "stream",
     "text": [
      "untuk menghitung area kita mengalikan luas * tinggi, l =50, t = 100, maka hasilnya adalah 50 * 100 = 5000\n"
     ]
    }
   ],
   "source": [
    "luas_area = 0\n",
    "def area(arg1,arg2):\n",
    "    luas_area = arg1 * arg2\n",
    "    print(f\"untuk menghitung area kita mengalikan luas * tinggi, l ={arg1}, t = {arg2}, maka hasilnya adalah {arg1} * {arg2} = {arg1*arg2}\")\n",
    "    return luas_area\n",
    "\n",
    "luas_area = area(50,100)\n",
    "\n"
   ]
  }
 ],
 "metadata": {
  "interpreter": {
   "hash": "aad4cc7dc5e0e99ec296b13465a882b8dc865e3b37306cc675d0b140a9b3a4a7"
  },
  "kernelspec": {
   "display_name": "Python 3.9.7 ('base')",
   "language": "python",
   "name": "python3"
  },
  "language_info": {
   "codemirror_mode": {
    "name": "ipython",
    "version": 3
   },
   "file_extension": ".py",
   "mimetype": "text/x-python",
   "name": "python",
   "nbconvert_exporter": "python",
   "pygments_lexer": "ipython3",
   "version": "3.9.7"
  },
  "orig_nbformat": 4
 },
 "nbformat": 4,
 "nbformat_minor": 2
}
